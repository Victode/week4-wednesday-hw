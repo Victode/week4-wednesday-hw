{
 "cells": [
  {
   "cell_type": "markdown",
   "metadata": {},
   "source": [
    "# Asymptotic Analysis & Data Structures\n",
    "\n",
    "### Topics to discuss today:\n",
    "\n",
    "<ul>\n",
    "    <li>What is Asymptotic Analysis?</li>\n",
    "    <li>Classifying time complexities</li>\n",
    "    <li>Classifying space complexities</li>\n",
    "    <li>Implementing a LinkedList</li>\n",
    "</ul>"
   ]
  },
  {
   "cell_type": "markdown",
   "metadata": {},
   "source": [
    "extra resources he sent us during class - https://www.bigocheatsheet.com/ "
   ]
  },
  {
   "cell_type": "markdown",
   "metadata": {},
   "source": [
    "### What is Asymptotic Analysis?\n",
    "\n",
    "Asymptotic analysis refers to setting mathematical bounds of an algorithms run-time performance. Asymptotic analysis is used for estimating time and space complexity.\n",
    "\n",
    "There are three metrics we measure:\n",
    "<ul>\n",
    "<li><b>Best Case</b> − Minimum time required for running.</li>\n",
    "<li><b>Average Case</b> − Average time required for running.</li>\n",
    "<li><b>Worst Case</b> − Maximum time required for running.</li>\n",
    "</ul>\n",
    "\n",
    "Here are the two major asymptotic notations that we'll be focusing on today:\n",
    "<ul>\n",
    "<li>Ο Notation (Big O Notation)</li>\n",
    "<li>Ω Notation (Omega Notation)</li>\n",
    "</ul>\n",
    "\n",
    "#### Big O Notation\n",
    "Big O notation expresses the <b>upper bound</b> of an algorithm's execution time. This measures the <b>worst case</b> time complexity.\n",
    "\n",
    "#### Omega Notation\n",
    "Omega notation expresses the <b>lower bound</b> of an algorithm's execution time. This measures the <b>best case</b> time complexity."
   ]
  },
  {
   "cell_type": "markdown",
   "metadata": {},
   "source": [
    "\n",
    "\n",
    "<table style=\"text-align:left;\" class=\"table table-bordered\">\n",
    "    <thead>\n",
    "        <tr>\n",
    "            <th>Name</th>\n",
    "            <th>Time Complexity</th>\n",
    "        </tr>\n",
    "    </thead>\n",
    "\n",
    "  <tr>\n",
    "<td>constant</td>\n",
    "<td>Ο(1)</td>\n",
    "</tr>\n",
    "<tr>\n",
    "<td>logarithmic</td>\n",
    "<td>Ο(log n)</td>\n",
    "</tr>\n",
    "<tr>\n",
    "<td>linear</td>\n",
    "<td>Ο(n)</td>\n",
    "</tr>\n",
    "<tr>\n",
    "<td>n log n</td>\n",
    "<td>Ο(n log n)</td>\n",
    "</tr>\n",
    "<tr>\n",
    "<td>quadratic</td>\n",
    "<td>Ο(n<sup>2</sup>)</td>\n",
    "</tr>\n",
    "<tr>\n",
    "<td>cubic</td>\n",
    "<td>Ο(n<sup>3</sup>)</td>\n",
    "</tr>\n",
    "<tr>\n",
    "<td>polynomial</td>\n",
    "<td>n<sup>Ο(1)</sup></td>\n",
    "</tr>\n",
    "<tr>\n",
    "<td>exponential</td>\n",
    "<td>2<sup>Ο(n)</sup></td>\n",
    "</tr>\n",
    "</table>\n",
    "\n",
    "Extra resources:\n",
    "https://www.youtube.com/watch?v=0oDAlMwTrLo"
   ]
  },
  {
   "cell_type": "markdown",
   "metadata": {},
   "source": [
    "##### O(1) Example\n",
    "No matter the size of the input data, the execution time will always be the same"
   ]
  },
  {
   "cell_type": "code",
   "execution_count": null,
   "metadata": {},
   "outputs": [],
   "source": [
    "def is_smaller(a,b):\n",
    "    return a < b\n",
    "print(is_smaller(1000,13000))\n",
    "print(is_smaller(1500,13500))\n",
    "print(is_smaller(1,2))"
   ]
  },
  {
   "cell_type": "code",
   "execution_count": null,
   "metadata": {
    "scrolled": true
   },
   "outputs": [],
   "source": [
    "%timeit is_smaller(1,2)"
   ]
  },
  {
   "cell_type": "code",
   "execution_count": null,
   "metadata": {},
   "outputs": [],
   "source": [
    "# Print the first three items of a given list\n",
    "# Time Complexity: O(1)\n",
    "def print_items(a_list):\n",
    "    for idx in range(3):\n",
    "        pass\n",
    "        \n",
    "print_items([10,25,23,21,23,15])"
   ]
  },
  {
   "cell_type": "code",
   "execution_count": null,
   "metadata": {},
   "outputs": [],
   "source": [
    "%timeit print_items([10,25,23])"
   ]
  },
  {
   "cell_type": "markdown",
   "metadata": {},
   "source": [
    "##### O(n) Example\n",
    "The execution time increases linearly with the length of the input. For each growth in size of the input, the time it takes to run increases by the same amount."
   ]
  },
  {
   "cell_type": "code",
   "execution_count": null,
   "metadata": {},
   "outputs": [],
   "source": [
    "# O(n)\n",
    "\n",
    "def find_sum(a_list):\n",
    "    curr_sum = 0\n",
    "    for num in a_list:\n",
    "        curr_cum += num\n",
    "    return curr_sum\n"
   ]
  },
  {
   "cell_type": "code",
   "execution_count": null,
   "metadata": {},
   "outputs": [],
   "source": [
    "%timeit print_items([10,25,23])"
   ]
  },
  {
   "cell_type": "code",
   "execution_count": null,
   "metadata": {},
   "outputs": [],
   "source": [
    "# O(n) + O(n) => O(n + n) => O(2n) => SIMPLIFIES TO: O(n)\n",
    "def find_sum_then_print_numbers(a_list):\n",
    "    curr_sum = 0\n",
    "#     O(n)\n",
    "    for num in a_list:\n",
    "        curr_sum += num\n",
    "#      O(n)   \n",
    "    for num in a_list:\n",
    "        pass\n",
    "        \n",
    "    return curr_sum"
   ]
  },
  {
   "cell_type": "code",
   "execution_count": null,
   "metadata": {},
   "outputs": [],
   "source": [
    "%timeit find_sum_then_print_numbers([10,25,23])"
   ]
  },
  {
   "cell_type": "code",
   "execution_count": null,
   "metadata": {},
   "outputs": [],
   "source": [
    "%timeit find_sum_then_print_numbers([10,25,23,34,34])"
   ]
  },
  {
   "cell_type": "code",
   "execution_count": null,
   "metadata": {},
   "outputs": [],
   "source": [
    "%timeit find_sum_then_print_numbers([10,25,23,23,56,67,23])"
   ]
  },
  {
   "cell_type": "markdown",
   "metadata": {},
   "source": [
    "##### O(log(n))\n",
    "A logarithmic time complexity increases linearly as the input increases exponentially. Usually this occurs when we decrease the size of our input as we move through our algorithm. It is O(log(n)) when we do divide and conquer type of algorithms like binary search. \n",
    "\n",
    "Additional Explanations:\n",
    "https://www.youtube.com/watch?v=wjDY5RbILno\n"
   ]
  },
  {
   "cell_type": "code",
   "execution_count": null,
   "metadata": {},
   "outputs": [],
   "source": [
    "def loop_to_num(n):\n",
    "    curr_value = 1\n",
    "    iterations = 0 \n",
    "    for num in range(n):\n",
    "        curr_value *= 2\n",
    "        iterations += 1\n",
    "    return iterations"
   ]
  },
  {
   "cell_type": "code",
   "execution_count": null,
   "metadata": {},
   "outputs": [],
   "source": [
    "def log_func(n):\n",
    "    curr_value = 1\n",
    "    iterations = 0 \n",
    "    \n",
    "    while n != curr_value:\n",
    "        curr_value *= 2\n",
    "        iterations += 1\n",
    "        \n",
    "    return curr_value"
   ]
  },
  {
   "cell_type": "code",
   "execution_count": null,
   "metadata": {},
   "outputs": [],
   "source": [
    "def log_func_recursive(n):\n",
    "    if n <= 1:\n",
    "        return 0 \n",
    "    \n",
    "    n /= 2\n",
    "    \n",
    "    return 1 + log_func_recursive(n)\n"
   ]
  },
  {
   "cell_type": "code",
   "execution_count": null,
   "metadata": {},
   "outputs": [],
   "source": [
    "log_func_recursive(8)"
   ]
  },
  {
   "cell_type": "code",
   "execution_count": null,
   "metadata": {},
   "outputs": [],
   "source": [
    "log_func(8)"
   ]
  },
  {
   "cell_type": "code",
   "execution_count": null,
   "metadata": {},
   "outputs": [],
   "source": [
    "%timeit loop_to_num(213)"
   ]
  },
  {
   "cell_type": "code",
   "execution_count": null,
   "metadata": {},
   "outputs": [],
   "source": [
    "%timeit log_func(4)"
   ]
  },
  {
   "cell_type": "markdown",
   "metadata": {},
   "source": [
    "###### O(n^2) Example\n",
    "When an algorithm needs to perform a linear time operation for each value in the input data"
   ]
  },
  {
   "cell_type": "code",
   "execution_count": null,
   "metadata": {},
   "outputs": [],
   "source": [
    "# Build pairs\n",
    "# O(n) * O(n) => O(n * n) => O(n^2)\n",
    "def build_pairs(list_a, list_b):\n",
    "    pairs = []\n",
    "    for num_a in list_a:\n",
    "        for num_b in list_b:\n",
    "            pair = (num_a, num_b)\n",
    "            pairs.append(pair)\n",
    "    return pairs"
   ]
  },
  {
   "cell_type": "code",
   "execution_count": null,
   "metadata": {},
   "outputs": [],
   "source": [
    "%timeit build_pairs([1,2,3,4,5], [4,5,6,7,7])"
   ]
  },
  {
   "cell_type": "code",
   "execution_count": null,
   "metadata": {},
   "outputs": [],
   "source": [
    "%timeit build_pairs([1,2,5,5,3,4,5], [4,5,3,3,6,7,7])"
   ]
  },
  {
   "cell_type": "markdown",
   "metadata": {},
   "source": [
    "### In-Class Exercise\n",
    "In a comment in the following three cells, classify each algorithm into one of the time complexities discussed above."
   ]
  },
  {
   "cell_type": "code",
   "execution_count": null,
   "metadata": {},
   "outputs": [],
   "source": [
    "#O(n +1) O(4) => O(n +5) => O(n)\n",
    "def two_sum_loops(nums, target):\n",
    "    #O(n^2)\n",
    "    for i, num in enumerate(nums):#O(n)\n",
    "        for j, num2 in enumerate(nums[i + 1:]):#O(n)\n",
    "            if target - num == num2: #O(1)\n",
    "                return [i,j+i+1]\n",
    "                        "
   ]
  },
  {
   "cell_type": "code",
   "execution_count": null,
   "metadata": {},
   "outputs": [],
   "source": [
    "#O(n) + O(n) => O(2n) => O(n)\n",
    "def two_sum(nums, target):\n",
    "    d={}\n",
    "    for i, num in enumerate(nums): #O(n)\n",
    "        if target - num in d: #O(1) is constant because d is a dictionary \n",
    "            return [d[target-num],i]\n",
    "        d[num]=i\n",
    "    return -1\n",
    "                      "
   ]
  },
  {
   "cell_type": "code",
   "execution_count": null,
   "metadata": {},
   "outputs": [],
   "source": [
    "#O(n + 1) => O(n)\n",
    "def check_if_num_in_list(a_list, value): #O(n)\n",
    "    return value in a_list\n",
    "                 "
   ]
  },
  {
   "cell_type": "markdown",
   "metadata": {},
   "source": [
    "## Space Complexity\n",
    "Space complexity refers to the total amount of memory space that is consumed by an algorithm. This value includes both any new values created as well as input values\n",
    "\n",
    "We'll use Big O notation for space complexity as well. In this case, Big O gives the worst-case of an algorithm’s growth rate. \n",
    "\n",
    "\"The space this algorithm takes will grow no more quickly than this, but it could grow more slowly.\""
   ]
  },
  {
   "cell_type": "markdown",
   "metadata": {},
   "source": [
    "###### O(1) Example"
   ]
  },
  {
   "cell_type": "code",
   "execution_count": null,
   "metadata": {},
   "outputs": [],
   "source": [
    "a = 10  \n",
    "b = 11\n",
    "\n",
    "print(a + b)"
   ]
  },
  {
   "cell_type": "code",
   "execution_count": null,
   "metadata": {},
   "outputs": [],
   "source": [
    "a = [4,3,2,1]  \n",
    "b = [1,2,3,4,5] \n",
    "\n",
    "print(a + b)"
   ]
  },
  {
   "cell_type": "code",
   "execution_count": null,
   "metadata": {},
   "outputs": [],
   "source": [
    "# O(2) + O(1) => O(3) => O(1)\n",
    "\n",
    "# O(1), O(1)\n",
    "def sum_numbers(a, b):\n",
    "#   start auxiliary space\n",
    "    c = a + b #O(1)\n",
    "        \n",
    "    return c\n",
    "#   End auxiliary space"
   ]
  },
  {
   "cell_type": "markdown",
   "metadata": {},
   "source": [
    "###### O(n) Example\n",
    "Input Space: O(n) <- This comes from aList in the input\n",
    "Auxiliary Space: O(1) <- The only variables created in the function are integers\n",
    "\n",
    "Total Space: O(n + 1) or O(n)"
   ]
  },
  {
   "cell_type": "code",
   "execution_count": null,
   "metadata": {},
   "outputs": [],
   "source": [
    "# O(1 + n) =>  O(n)\n",
    "\n",
    "#                O(1) <-- Input space\n",
    "def builds_range(n):\n",
    "    res_list = [] # O(n) <--Auxiliary space\n",
    "    \n",
    "    for num in range(n):\n",
    "        res_list.append(num)\n",
    "        \n",
    "    return res_list\n",
    "\n"
   ]
  },
  {
   "cell_type": "markdown",
   "metadata": {},
   "source": [
    "The recursive calls generate new function calls in the stack. Each call on the stack stores a separate copy of the variables defined in the function. The array is passed by reference so a separate copy of the array is not created for each function call. As we can have O(log(n)) calls to the function, the space complexity of the recursive version should include the O(log(n)) auxiliary space. Hence, the overall space complexity is:\n",
    "\n",
    "Input space: O(n)\n",
    "Auxiliary space: O(log n)\n",
    "\n",
    "Total Space: O(n + log n) OR O(n)"
   ]
  },
  {
   "cell_type": "code",
   "execution_count": null,
   "metadata": {},
   "outputs": [],
   "source": [
    "#O(log(n)) + O(n) =>O(log(n) + n) => O(n)\n",
    "\n",
    "#                     On\n",
    "def log_func_recursive(n):\n",
    "    #O(log(n)) <= Function calls are O(log(n))\n",
    "    if n <= 1:\n",
    "        return 0 \n",
    "    \n",
    "    n /= 2 # O(1)\n",
    "    \n",
    "    return 1 + log_func_recursive(n)"
   ]
  },
  {
   "cell_type": "markdown",
   "metadata": {},
   "source": [
    "### O(n^2) Example"
   ]
  },
  {
   "cell_type": "code",
   "execution_count": null,
   "metadata": {},
   "outputs": [],
   "source": [
    "#O(5n) + O(n^2) => O(n^2 +n) => O(n^2)\n",
    "\n",
    "def build_nested_list(list_a, list_b, list_c = None, list_d=None, list_e=None):\n",
    "    matrix = []\n",
    "    \n",
    "    list_count = 2\n",
    "    if list_c:\n",
    "        list_count += 1\n",
    "        \n",
    "    if list_d:\n",
    "        list_count += 1\n",
    "    \n",
    "    if list_e:\n",
    "        list_count += 1\n",
    "    \n",
    "    for idx in range(len(list_a)):\n",
    "        matrix.append([])\n",
    "        \n",
    "    \n",
    "    print(matrix)"
   ]
  },
  {
   "cell_type": "code",
   "execution_count": null,
   "metadata": {},
   "outputs": [],
   "source": [
    "build_nested_list([1,2,3], [2,3,5], [4,5,6])"
   ]
  },
  {
   "cell_type": "code",
   "execution_count": null,
   "metadata": {},
   "outputs": [],
   "source": [
    "[\n",
    "    [1,2,5,6],\n",
    "    [7,8,5,4],\n",
    "    [3,1,6,8],\n",
    "    [10,25,32,15]    \n",
    "]"
   ]
  },
  {
   "cell_type": "markdown",
   "metadata": {},
   "source": [
    "# NOTE: contant, linear, and quadratic for both time and space complexity "
   ]
  },
  {
   "cell_type": "code",
   "execution_count": null,
   "metadata": {},
   "outputs": [],
   "source": [
    "def reverse_words(text): \n",
    "    for word in text:\n",
    "        word[::-1]\n",
    "    return word\n",
    "reverse_words(\"double spaced words\")"
   ]
  },
  {
   "cell_type": "code",
   "execution_count": null,
   "metadata": {},
   "outputs": [],
   "source": [
    "word = 'double  spaced  words'\n",
    "word[::-1]"
   ]
  },
  {
   "cell_type": "code",
   "execution_count": null,
   "metadata": {},
   "outputs": [],
   "source": [
    "def create_phone_number(n):\n",
    "    phone = []\n",
    "\n",
    "    for num in n:\n",
    "        new = str(num)\n",
    "        phone.append(new)\n",
    "        \n",
    "    print(f'\"({phone[0]}{phone[1]}{phone[2]}) {phone[3]}{phone[4]}{phone[5]}-{phone[6]}{phone[7]}{phone[8]}{phone[9]}\"')\n",
    "\n",
    "create_phone_number([1, 2, 3, 4, 5, 6, 7, 8, 9, 0])"
   ]
  },
  {
   "cell_type": "code",
   "execution_count": 34,
   "metadata": {
    "scrolled": false
   },
   "outputs": [
    {
     "name": "stdout",
     "output_type": "stream",
     "text": [
      "9\n"
     ]
    }
   ],
   "source": [
    "# 6kyu\n",
    "#Time Complexity- #O(n + 1) => O(n)\n",
    "#Space Complexity #O(n + 1) + O(2) + O(n +1) => O(n)\n",
    "\n",
    "def solution(s):\n",
    "    list_a = [] #O(n)\n",
    "    \n",
    "    if len(s) % 2 != 0: #O(1) \n",
    "        s+= \"_\"\n",
    "        \n",
    "    for word in range(0, len(s), 2): #O(n)\n",
    "        list_a.append(s[word : word  +2])\n",
    "    return list_a\n",
    "    \n",
    "    \n",
    "   \n",
    "    \n",
    "        \n",
    "solution(\"abcde\")"
   ]
  },
  {
   "cell_type": "code",
   "execution_count": null,
   "metadata": {},
   "outputs": [],
   "source": [
    "%timeit solution(\"abcde\")"
   ]
  },
  {
   "cell_type": "code",
   "execution_count": null,
   "metadata": {},
   "outputs": [],
   "source": [
    "%timeit solution(\"abcdefghi\")"
   ]
  },
  {
   "cell_type": "code",
   "execution_count": null,
   "metadata": {},
   "outputs": [],
   "source": [
    "%timeit solution(\"abcdefghiasdfasdf\")"
   ]
  },
  {
   "cell_type": "code",
   "execution_count": null,
   "metadata": {},
   "outputs": [],
   "source": [
    "def solution(s):\n",
    "    print(len(s))\n",
    "    \n",
    "\n",
    "solution(\"abcde\")"
   ]
  },
  {
   "cell_type": "code",
   "execution_count": null,
   "metadata": {},
   "outputs": [],
   "source": [
    "def string_to_number(s):\n",
    "    return int(s)"
   ]
  },
  {
   "cell_type": "code",
   "execution_count": 6,
   "metadata": {},
   "outputs": [
    {
     "data": {
      "text/plain": [
       "['as', 'df', 'g_']"
      ]
     },
     "execution_count": 6,
     "metadata": {},
     "output_type": "execute_result"
    }
   ],
   "source": [
    "# 6kyu\n",
    "# Time Complexity - O(n + 1) + O(n + 1) => O(2n + 2) => O(n)\n",
    "#Space Complexity - O(n + 1) + O(2) + O(n +1) => O(n)\n",
    "def solution(s): #O(1)\n",
    "    list_a = [] #O(n)\n",
    "    \n",
    "    if len(s) % 2 != 0: #O(1)\n",
    "        s+= \"_\"   #O(1)\n",
    "        \n",
    "    for word in range(0, len(s), 2): #O(n)\n",
    "        list_a.append(s[word : word  +2]) #O(1)\n",
    "    return list_a\n",
    "\n",
    "solution(\"asdfg\")"
   ]
  },
  {
   "cell_type": "code",
   "execution_count": 9,
   "metadata": {},
   "outputs": [
    {
     "data": {
      "text/plain": [
       "'Yes'"
      ]
     },
     "execution_count": 9,
     "metadata": {},
     "output_type": "execute_result"
    }
   ],
   "source": [
    "# 8kyu\n",
    "# Time Complexity-O(1 + 1) => O(1)\n",
    "# Space Complexity- O(1)\n",
    "\n",
    "def bool_to_word(boolean):\n",
    "    \n",
    "    if boolean == True: #O(1)\n",
    "        return \"Yes\"\n",
    "    \n",
    "    elif boolean == False: #O(1)\n",
    "        return 'No'\n",
    "    \n",
    "bool_to_word(True)"
   ]
  },
  {
   "cell_type": "code",
   "execution_count": 25,
   "metadata": {},
   "outputs": [
    {
     "data": {
      "text/plain": [
       "'Even'"
      ]
     },
     "execution_count": 25,
     "metadata": {},
     "output_type": "execute_result"
    }
   ],
   "source": [
    "#8kyu\n",
    "# Time Complexity- O(1 + 1) => O(1)\n",
    "# Space Complexity- O(1)\n",
    "\n",
    "def even_or_odd(number):\n",
    "    if number % 2 == 0: #O(1)\n",
    "        return \"Even\" \n",
    "    else:               #O(1)\n",
    "        return \"Odd\"\n",
    "    \n",
    "even_or_odd(12)"
   ]
  },
  {
   "cell_type": "code",
   "execution_count": 30,
   "metadata": {},
   "outputs": [
    {
     "name": "stdout",
     "output_type": "stream",
     "text": [
      "80.4 ns ± 1.1 ns per loop (mean ± std. dev. of 7 runs, 10,000,000 loops each)\n"
     ]
    }
   ],
   "source": [
    "%timeit even_or_odd(12)"
   ]
  },
  {
   "cell_type": "code",
   "execution_count": 31,
   "metadata": {},
   "outputs": [
    {
     "name": "stdout",
     "output_type": "stream",
     "text": [
      "80.5 ns ± 0.255 ns per loop (mean ± std. dev. of 7 runs, 10,000,000 loops each)\n"
     ]
    }
   ],
   "source": [
    "%timeit even_or_odd(121234132)"
   ]
  },
  {
   "cell_type": "code",
   "execution_count": 32,
   "metadata": {},
   "outputs": [
    {
     "name": "stdout",
     "output_type": "stream",
     "text": [
      "79.7 ns ± 0.87 ns per loop (mean ± std. dev. of 7 runs, 10,000,000 loops each)\n"
     ]
    }
   ],
   "source": [
    "%timeit even_or_odd(1)"
   ]
  },
  {
   "cell_type": "code",
   "execution_count": null,
   "metadata": {},
   "outputs": [],
   "source": []
  }
 ],
 "metadata": {
  "kernelspec": {
   "display_name": "Python 3 (ipykernel)",
   "language": "python",
   "name": "python3"
  },
  "language_info": {
   "codemirror_mode": {
    "name": "ipython",
    "version": 3
   },
   "file_extension": ".py",
   "mimetype": "text/x-python",
   "name": "python",
   "nbconvert_exporter": "python",
   "pygments_lexer": "ipython3",
   "version": "3.9.12"
  },
  "vscode": {
   "interpreter": {
    "hash": "81794d4967e6c3204c66dcd87b604927b115b27c00565d3d43f05ba2f3a2cb0d"
   }
  }
 },
 "nbformat": 4,
 "nbformat_minor": 2
}
